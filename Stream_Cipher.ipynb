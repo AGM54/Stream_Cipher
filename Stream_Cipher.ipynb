{
 "cells": [
  {
   "cell_type": "code",
   "execution_count": 13,
   "metadata": {},
   "outputs": [
    {
     "name": "stdout",
     "output_type": "stream",
     "text": [
      "Texto plano: Este es un mensaje secreto.\n",
      "Keystream generado: [5, 136, 193, 15, 85, 20, 215, 33, 135, 107, 112, 75, 65, 206, 149, 46, 97, 170, 119, 243, 119, 208, 79, 191, 201, 166, 48]\n"
     ]
    }
   ],
   "source": [
    "import random\n",
    "\n",
    "# Función para generar un keystream pseudoaleatorio\n",
    "def generate_keystream(length, key):\n",
    "    \"\"\"\n",
    "    Genera un keystream pseudoaleatorio basado en un PRNG básico.\n",
    "\n",
    "    Args:\n",
    "        length (int): Longitud del keystream.\n",
    "        key (str): Clave para inicializar el PRNG.\n",
    "\n",
    "    Returns:\n",
    "        list: Keystream de números enteros.\n",
    "    \"\"\"\n",
    "    random.seed(key)\n",
    "    return [random.randint(0, 255) for _ in range(length)]\n",
    "\n",
    "key = \"my_secret_key\"\n",
    "plaintext = \"Este es un mensaje secreto.\"\n",
    "keystream = generate_keystream(len(plaintext), key)\n",
    "\n",
    "print(\"Texto plano:\", plaintext)\n",
    "print(\"Keystream generado:\", keystream)"
   ]
  },
  {
   "cell_type": "markdown",
   "metadata": {},
   "source": [
    "# Cifrado\n",
    "\n",
    "Implementa una función que tome un mensaje en texto plano y lo cifre utilizando la operación XOR con el keystream generado."
   ]
  },
  {
   "cell_type": "code",
   "execution_count": 2,
   "metadata": {},
   "outputs": [
    {
     "name": "stdout",
     "output_type": "stream",
     "text": [
      "Mensaje cifrado: [64, 251, 181, 106, 117, 113, 164, 1, 242, 5, 80, 38, 36, 160, 230, 79, 11, 207, 87, 128, 18, 179, 61, 218, 189, 201, 30]\n"
     ]
    }
   ],
   "source": [
    "# Función para cifrar un mensaje utilizando XOR con el keystream\n",
    "def xor_encrypt(plaintext, keystream):\n",
    "    \"\"\"\n",
    "    Cifra un mensaje de texto plano utilizando XOR con un keystream.\n",
    "\n",
    "    Args:\n",
    "        plaintext (str): El mensaje en texto plano.\n",
    "        keystream (list): El keystream generado.\n",
    "\n",
    "    Returns:\n",
    "        list: Mensaje cifrado como una lista de enteros.\n",
    "    \"\"\"\n",
    "    encrypted = [ord(char) ^ keystream[i] for i, char in enumerate(plaintext)]\n",
    "    return encrypted\n",
    "\n",
    "# Cifrado del mensaje\n",
    "encrypted_message = xor_encrypt(plaintext, keystream)\n",
    "print(\"Mensaje cifrado:\", encrypted_message)\n"
   ]
  },
  {
   "cell_type": "markdown",
   "metadata": {},
   "source": [
    "\n",
    " # Descifrado\n",
    "\n",
    " Implementa una función que tome el mensaje cifrado y lo descifre utilizando la misma operación XOR con el keystream. Asegúrate de que el descifrado reproduzca exactamente el mensaje original."
   ]
  },
  {
   "cell_type": "code",
   "execution_count": null,
   "metadata": {},
   "outputs": [
    {
     "name": "stdout",
     "output_type": "stream",
     "text": [
      "Mensaje descifrado: Este es un mensaje secreto.\n"
     ]
    }
   ],
   "source": [
    "\n",
    "def xor_decrypt(encrypted, keystream):\n",
    "    \"\"\"\n",
    "    Descifra un mensaje cifrado utilizando XOR con el keystream.\n",
    "\n",
    "    Args:\n",
    "        encrypted (list): El mensaje cifrado como una lista de enteros.\n",
    "        keystream (list): El keystream utilizado para cifrar.\n",
    "\n",
    "    Returns:\n",
    "        str: El mensaje descifrado en texto plano.\n",
    "    \"\"\"\n",
    "    decrypted = ''.join(chr(encrypted[i] ^ keystream[i]) for i in range(len(encrypted)))\n",
    "    return decrypted\n",
    "\n",
    "decrypted_message = xor_decrypt(encrypted_message, keystream)\n",
    "print(\"Mensaje descifrado:\", decrypted_message)\n"
   ]
  },
  {
   "cell_type": "markdown",
   "metadata": {},
   "source": [
    "# PREGUNTAS A RESPONDER "
   ]
  },
  {
   "cell_type": "markdown",
   "metadata": {},
   "source": [
    "# ¿Qué pasa cuando cambias la clave utilizada para generar el keystream?\n",
    "Al cambiar la clave, el generador de números pseudoaleatorios (PRNG) genera un keystream completamente diferente. Esto significa que el texto cifrado será distinto, y si alguien intenta descifrar el mensaje sin usar la misma clave original, no podrá obtener el contenido correcto. En resumen, la clave es fundamental para asegurar que el mensaje cifrado sea seguro y no pueda ser descifrado por terceros.\n",
    "\n",
    "# ¿Qué riesgos existen si reutilizas el mismo keystream para cifrar mensajes diferentes?\n",
    "Si el mismo keystream se utiliza para cifrar dos mensajes distintos, se corre el riesgo de un ataque conocido como \"ataque de texto plano conocido\" o \"ataque de texto plano elegido\". En estos casos, al comparar los mensajes cifrados, un atacante puede descubrir patrones matemáticos usando las propiedades del XOR y obtener pistas sobre los mensajes originales, poniendo en peligro la seguridad del sistema.\n",
    "\n",
    "# ¿Cómo influye la longitud del keystream en la seguridad del cifrado?\n",
    "Para mantener la seguridad, el keystream debe ser al menos tan largo como el mensaje a cifrar. Si el keystream es más corto y se repite, el cifrado se vuelve menos seguro, ya que se generan patrones repetidos que facilitan el análisis y la deducción de información sobre el texto original por parte de un atacante.\n",
    "\n",
    "# ¿Qué se debe considerar al generar un keystream en un entorno real?\n",
    "En un entorno real, es importante utilizar un generador de números aleatorios criptográficamente seguro (CSPRNG), ya que esto garantiza que el keystream sea verdaderamente aleatorio y difícil de predecir. Además, la clave que inicializa el generador debe mantenerse en secreto y nunca reutilizarse para cifrar mensajes distintos. También es fundamental que el keystream tenga una longitud suficiente, igual o mayor a la del mensaje, para evitar riesgos de seguridad."
   ]
  },
  {
   "cell_type": "markdown",
   "metadata": {},
   "source": [
    "# PRUEBAS UNITARIAS"
   ]
  },
  {
   "cell_type": "code",
   "execution_count": null,
   "metadata": {},
   "outputs": [
    {
     "name": "stderr",
     "output_type": "stream",
     "text": [
      "test_encryption_decryption (__main__.TestXOREncryption) ... ok\n",
      "\n",
      "----------------------------------------------------------------------\n",
      "Ran 1 test in 0.003s\n",
      "\n",
      "OK\n"
     ]
    },
    {
     "name": "stdout",
     "output_type": "stream",
     "text": [
      "Texto plano: Mensaje muy importante\n",
      "Keystream generado: [247, 68, 31, 165, 206, 118, 159, 121, 79, 234, 212, 27, 232, 228, 8, 30, 99, 174, 231, 20, 76, 184]\n",
      "Mensaje cifrado: [186, 33, 113, 214, 175, 28, 250, 89, 34, 159, 173, 59, 129, 137, 120, 113, 17, 218, 134, 122, 56, 221]\n",
      "Mensaje descifrado: Mensaje muy importante\n"
     ]
    },
    {
     "data": {
      "text/plain": [
       "<unittest.main.TestProgram at 0x21dba2e1ff0>"
      ]
     },
     "execution_count": 5,
     "metadata": {},
     "output_type": "execute_result"
    }
   ],
   "source": [
    "\n",
    "key = \"secure_key\"\n",
    "plaintext = \"Mensaje muy importante\"\n",
    "keystream = generate_keystream(len(plaintext), key)\n",
    "\n",
    "print(\"Texto plano:\", plaintext)\n",
    "print(\"Keystream generado:\", keystream)\n",
    "\n",
    "# Cifrado\n",
    "encrypted_message = xor_encrypt(plaintext, keystream)\n",
    "print(\"Mensaje cifrado:\", encrypted_message)\n",
    "\n",
    "# Descifrado\n",
    "decrypted_message = xor_decrypt(encrypted_message, keystream)\n",
    "print(\"Mensaje descifrado:\", decrypted_message)\n",
    "\n",
    "# Pruebas unitarias\n",
    "import unittest\n",
    "\n",
    "class TestXOREncryption(unittest.TestCase):\n",
    "    def test_encryption_decryption(self):\n",
    "        key = \"prueba_unittest\"\n",
    "        plaintext = \"Prueba de cifrado\"\n",
    "        keystream = generate_keystream(len(plaintext), key)\n",
    "        encrypted = xor_encrypt(plaintext, keystream)\n",
    "        decrypted = xor_decrypt(encrypted, keystream)\n",
    "        self.assertEqual(decrypted, plaintext)\n",
    "\n",
    "unittest.main(argv=[''], verbosity=2, exit=False)\n",
    "\n"
   ]
  },
  {
   "cell_type": "code",
   "execution_count": 12,
   "metadata": {},
   "outputs": [
    {
     "name": "stderr",
     "output_type": "stream",
     "text": [
      "test_encryption_decryption (__main__.TestXOREncryption) ... ok\n",
      "\n",
      "----------------------------------------------------------------------\n",
      "Ran 1 test in 0.002s\n",
      "\n",
      "OK\n"
     ]
    },
    {
     "name": "stdout",
     "output_type": "stream",
     "text": [
      "Texto plano: CIFRADOS 2025\n",
      "Keystream generado: [2, 171, 75, 128, 229, 103, 248, 27, 115, 161, 169, 126, 246]\n",
      "Mensaje cifrado: [65, 226, 13, 210, 164, 35, 183, 72, 83, 147, 153, 76, 195]\n",
      "Mensaje descifrado: CIFRADOS 2025\n"
     ]
    },
    {
     "data": {
      "text/plain": [
       "<unittest.main.TestProgram at 0x21dbb3499c0>"
      ]
     },
     "execution_count": 12,
     "metadata": {},
     "output_type": "execute_result"
    }
   ],
   "source": [
    "\n",
    "key = \"secure_key2025\"\n",
    "plaintext = \"CIFRADOS 2025\"\n",
    "keystream = generate_keystream(len(plaintext), key)\n",
    "\n",
    "print(\"Texto plano:\", plaintext)\n",
    "print(\"Keystream generado:\", keystream)\n",
    "\n",
    "# Cifrado\n",
    "encrypted_message = xor_encrypt(plaintext, keystream)\n",
    "print(\"Mensaje cifrado:\", encrypted_message)\n",
    "\n",
    "# Descifrado\n",
    "decrypted_message = xor_decrypt(encrypted_message, keystream)\n",
    "print(\"Mensaje descifrado:\", decrypted_message)\n",
    "\n",
    "# Pruebas unitarias\n",
    "import unittest\n",
    "\n",
    "class TestXOREncryption(unittest.TestCase):\n",
    "    def test_encryption_decryption(self):\n",
    "        key = \"prueba_unittest\"\n",
    "        plaintext = \"Prueba de cifrado\"\n",
    "        keystream = generate_keystream(len(plaintext), key)\n",
    "        encrypted = xor_encrypt(plaintext, keystream)\n",
    "        decrypted = xor_decrypt(encrypted, keystream)\n",
    "        self.assertEqual(decrypted, plaintext)\n",
    "\n",
    "unittest.main(argv=[''], verbosity=2, exit=False)\n",
    "\n"
   ]
  },
  {
   "cell_type": "code",
   "execution_count": 10,
   "metadata": {},
   "outputs": [
    {
     "name": "stderr",
     "output_type": "stream",
     "text": [
      "test_encryption_decryption (__main__.TestXOREncryption) ... ok\n",
      "\n",
      "----------------------------------------------------------------------\n",
      "Ran 1 test in 0.003s\n",
      "\n",
      "OK\n"
     ]
    },
    {
     "name": "stdout",
     "output_type": "stream",
     "text": [
      "Texto plano: CIBERSEGURIRDAD\n",
      "Keystream generado: [217, 85, 145, 155, 156, 31, 59, 213, 219, 70, 55, 140, 99, 202, 139]\n",
      "Mensaje cifrado: [154, 28, 211, 222, 206, 76, 126, 146, 142, 20, 126, 222, 39, 139, 207]\n",
      "Mensaje descifrado: CIBERSEGURIRDAD\n"
     ]
    },
    {
     "data": {
      "text/plain": [
       "<unittest.main.TestProgram at 0x21dbb348be0>"
      ]
     },
     "execution_count": 10,
     "metadata": {},
     "output_type": "execute_result"
    }
   ],
   "source": [
    "# Ejemplo de uso completo\n",
    "key = \"secure_keyYYY\"\n",
    "plaintext = \"CIBERSEGURIRDAD\"\n",
    "keystream = generate_keystream(len(plaintext), key)\n",
    "\n",
    "print(\"Texto plano:\", plaintext)\n",
    "print(\"Keystream generado:\", keystream)\n",
    "\n",
    "# Cifrado\n",
    "encrypted_message = xor_encrypt(plaintext, keystream)\n",
    "print(\"Mensaje cifrado:\", encrypted_message)\n",
    "\n",
    "# Descifrado\n",
    "decrypted_message = xor_decrypt(encrypted_message, keystream)\n",
    "print(\"Mensaje descifrado:\", decrypted_message)\n",
    "\n",
    "# Pruebas unitarias\n",
    "import unittest\n",
    "\n",
    "class TestXOREncryption(unittest.TestCase):\n",
    "    def test_encryption_decryption(self):\n",
    "        key = \"prueba_unittest\"\n",
    "        plaintext = \"Prueba de cifrado\"\n",
    "        keystream = generate_keystream(len(plaintext), key)\n",
    "        encrypted = xor_encrypt(plaintext, keystream)\n",
    "        decrypted = xor_decrypt(encrypted, keystream)\n",
    "        self.assertEqual(decrypted, plaintext)\n",
    "\n",
    "unittest.main(argv=[''], verbosity=2, exit=False)\n",
    "\n",
    "\n"
   ]
  },
  {
   "cell_type": "markdown",
   "metadata": {},
   "source": [
    "CHAT:https://chatgpt.com/share/67bd04bc-bdc4-8009-9b8b-15965a3e38af"
   ]
  }
 ],
 "metadata": {
  "kernelspec": {
   "display_name": "Python 3",
   "language": "python",
   "name": "python3"
  },
  "language_info": {
   "codemirror_mode": {
    "name": "ipython",
    "version": 3
   },
   "file_extension": ".py",
   "mimetype": "text/x-python",
   "name": "python",
   "nbconvert_exporter": "python",
   "pygments_lexer": "ipython3",
   "version": "3.10.11"
  }
 },
 "nbformat": 4,
 "nbformat_minor": 2
}
